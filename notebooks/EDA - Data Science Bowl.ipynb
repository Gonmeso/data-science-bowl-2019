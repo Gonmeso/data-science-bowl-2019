{
 "cells": [
  {
   "cell_type": "code",
   "execution_count": 2,
   "metadata": {},
   "outputs": [
    {
     "name": "stdout",
     "output_type": "stream",
     "text": [
      "Libraries imported correctly\n"
     ]
    }
   ],
   "source": [
    "# data handling\n",
    "import numpy as np\n",
    "import pandas as pd\n",
    "\n",
    "# graphics\n",
    "import matplotlib.pyplot as plt\n",
    "plt.style.use('ggplot')\n",
    "import seaborn as sns\n",
    "%matplotlib inline\n",
    "\n",
    "print('Libraries imported correctly')"
   ]
  },
  {
   "cell_type": "markdown",
   "metadata": {},
   "source": [
    "## Import datasets"
   ]
  },
  {
   "cell_type": "code",
   "execution_count": 3,
   "metadata": {},
   "outputs": [
    {
     "name": "stdout",
     "output_type": "stream",
     "text": [
      "Reading training set\n",
      "Number of rows for the train set is: 11341042\n",
      "Number of columns for the train set is: 11\n",
      "\n",
      "Reading train_labels\n",
      "Number of rows for the train_labels is: 17690\n",
      "Number of columns for the train_labels is: 7\n",
      "\n",
      "Reading test set\n",
      "Number of rows for the train set is: 1156414\n",
      "Number of columns for the train set is: 11\n",
      "\n"
     ]
    }
   ],
   "source": [
    "data_folder = '../data'\n",
    "\n",
    "# Read train\n",
    "print('Reading training set')\n",
    "train = pd.read_csv(f'{data_folder}/train.csv')\n",
    "print(f'Number of rows for the train set is: {train.shape[0]}')\n",
    "print(f'Number of columns for the train set is: {train.shape[1]}\\n')\n",
    "\n",
    "# Read train_labels\n",
    "print('Reading train_labels')\n",
    "train_labels = pd.read_csv(f'{data_folder}/train_labels.csv')\n",
    "print(f'Number of rows for the train_labels is: {train_labels.shape[0]}')\n",
    "print(f'Number of columns for the train_labels is: {train_labels.shape[1]}\\n')\n",
    "\n",
    "# Read test\n",
    "print('Reading test set')\n",
    "test = pd.read_csv(f'{data_folder}/test.csv')\n",
    "print(f'Number of rows for the test set is: {test.shape[0]}')\n",
    "print(f'Number of columns for the test set is: {test.shape[1]}\\n')"
   ]
  },
  {
   "cell_type": "markdown",
   "metadata": {},
   "source": [
    "Lets see the variables and explain each one"
   ]
  },
  {
   "cell_type": "code",
   "execution_count": 4,
   "metadata": {},
   "outputs": [
    {
     "data": {
      "text/html": [
       "<div>\n",
       "<style scoped>\n",
       "    .dataframe tbody tr th:only-of-type {\n",
       "        vertical-align: middle;\n",
       "    }\n",
       "\n",
       "    .dataframe tbody tr th {\n",
       "        vertical-align: top;\n",
       "    }\n",
       "\n",
       "    .dataframe thead th {\n",
       "        text-align: right;\n",
       "    }\n",
       "</style>\n",
       "<table border=\"1\" class=\"dataframe\">\n",
       "  <thead>\n",
       "    <tr style=\"text-align: right;\">\n",
       "      <th></th>\n",
       "      <th>event_id</th>\n",
       "      <th>game_session</th>\n",
       "      <th>timestamp</th>\n",
       "      <th>event_data</th>\n",
       "      <th>installation_id</th>\n",
       "      <th>event_count</th>\n",
       "      <th>event_code</th>\n",
       "      <th>game_time</th>\n",
       "      <th>title</th>\n",
       "      <th>type</th>\n",
       "      <th>world</th>\n",
       "    </tr>\n",
       "  </thead>\n",
       "  <tbody>\n",
       "    <tr>\n",
       "      <th>0</th>\n",
       "      <td>27253bdc</td>\n",
       "      <td>45bb1e1b6b50c07b</td>\n",
       "      <td>2019-09-06T17:53:46.937Z</td>\n",
       "      <td>{\"event_code\": 2000, \"event_count\": 1}</td>\n",
       "      <td>0001e90f</td>\n",
       "      <td>1</td>\n",
       "      <td>2000</td>\n",
       "      <td>0</td>\n",
       "      <td>Welcome to Lost Lagoon!</td>\n",
       "      <td>Clip</td>\n",
       "      <td>NONE</td>\n",
       "    </tr>\n",
       "    <tr>\n",
       "      <th>1</th>\n",
       "      <td>27253bdc</td>\n",
       "      <td>17eeb7f223665f53</td>\n",
       "      <td>2019-09-06T17:54:17.519Z</td>\n",
       "      <td>{\"event_code\": 2000, \"event_count\": 1}</td>\n",
       "      <td>0001e90f</td>\n",
       "      <td>1</td>\n",
       "      <td>2000</td>\n",
       "      <td>0</td>\n",
       "      <td>Magma Peak - Level 1</td>\n",
       "      <td>Clip</td>\n",
       "      <td>MAGMAPEAK</td>\n",
       "    </tr>\n",
       "    <tr>\n",
       "      <th>2</th>\n",
       "      <td>77261ab5</td>\n",
       "      <td>0848ef14a8dc6892</td>\n",
       "      <td>2019-09-06T17:54:56.302Z</td>\n",
       "      <td>{\"version\":\"1.0\",\"event_count\":1,\"game_time\":0...</td>\n",
       "      <td>0001e90f</td>\n",
       "      <td>1</td>\n",
       "      <td>2000</td>\n",
       "      <td>0</td>\n",
       "      <td>Sandcastle Builder (Activity)</td>\n",
       "      <td>Activity</td>\n",
       "      <td>MAGMAPEAK</td>\n",
       "    </tr>\n",
       "    <tr>\n",
       "      <th>3</th>\n",
       "      <td>b2dba42b</td>\n",
       "      <td>0848ef14a8dc6892</td>\n",
       "      <td>2019-09-06T17:54:56.387Z</td>\n",
       "      <td>{\"description\":\"Let's build a sandcastle! Firs...</td>\n",
       "      <td>0001e90f</td>\n",
       "      <td>2</td>\n",
       "      <td>3010</td>\n",
       "      <td>53</td>\n",
       "      <td>Sandcastle Builder (Activity)</td>\n",
       "      <td>Activity</td>\n",
       "      <td>MAGMAPEAK</td>\n",
       "    </tr>\n",
       "    <tr>\n",
       "      <th>4</th>\n",
       "      <td>1bb5fbdb</td>\n",
       "      <td>0848ef14a8dc6892</td>\n",
       "      <td>2019-09-06T17:55:03.253Z</td>\n",
       "      <td>{\"description\":\"Let's build a sandcastle! Firs...</td>\n",
       "      <td>0001e90f</td>\n",
       "      <td>3</td>\n",
       "      <td>3110</td>\n",
       "      <td>6972</td>\n",
       "      <td>Sandcastle Builder (Activity)</td>\n",
       "      <td>Activity</td>\n",
       "      <td>MAGMAPEAK</td>\n",
       "    </tr>\n",
       "  </tbody>\n",
       "</table>\n",
       "</div>"
      ],
      "text/plain": [
       "   event_id      game_session                 timestamp  \\\n",
       "0  27253bdc  45bb1e1b6b50c07b  2019-09-06T17:53:46.937Z   \n",
       "1  27253bdc  17eeb7f223665f53  2019-09-06T17:54:17.519Z   \n",
       "2  77261ab5  0848ef14a8dc6892  2019-09-06T17:54:56.302Z   \n",
       "3  b2dba42b  0848ef14a8dc6892  2019-09-06T17:54:56.387Z   \n",
       "4  1bb5fbdb  0848ef14a8dc6892  2019-09-06T17:55:03.253Z   \n",
       "\n",
       "                                          event_data installation_id  \\\n",
       "0             {\"event_code\": 2000, \"event_count\": 1}        0001e90f   \n",
       "1             {\"event_code\": 2000, \"event_count\": 1}        0001e90f   \n",
       "2  {\"version\":\"1.0\",\"event_count\":1,\"game_time\":0...        0001e90f   \n",
       "3  {\"description\":\"Let's build a sandcastle! Firs...        0001e90f   \n",
       "4  {\"description\":\"Let's build a sandcastle! Firs...        0001e90f   \n",
       "\n",
       "   event_count  event_code  game_time                          title  \\\n",
       "0            1        2000          0        Welcome to Lost Lagoon!   \n",
       "1            1        2000          0           Magma Peak - Level 1   \n",
       "2            1        2000          0  Sandcastle Builder (Activity)   \n",
       "3            2        3010         53  Sandcastle Builder (Activity)   \n",
       "4            3        3110       6972  Sandcastle Builder (Activity)   \n",
       "\n",
       "       type      world  \n",
       "0      Clip       NONE  \n",
       "1      Clip  MAGMAPEAK  \n",
       "2  Activity  MAGMAPEAK  \n",
       "3  Activity  MAGMAPEAK  \n",
       "4  Activity  MAGMAPEAK  "
      ]
     },
     "execution_count": 4,
     "metadata": {},
     "output_type": "execute_result"
    }
   ],
   "source": [
    "train.head()"
   ]
  },
  {
   "cell_type": "markdown",
   "metadata": {},
   "source": [
    "**event_id**: Event identifier\n",
    "\n",
    "**game_session**: identifier of the game session (playing session as in \"one sitting\"), installation_id has 1:n game sessions\n",
    "\n",
    "**timestamp**: timestamp of the event\n",
    "\n",
    "**event_data**: specific data regarding the activity type and title. This columns is interesting to dig in but for now some of the interesting values are:\n",
    "* 2000: stands for initiating game/activity\n",
    "* 4100: assesment try, when this code is pressent \"correct\" is also present, meaning that if true the assessment has been resolvel gracefully, otherwise is false\n",
    "* 4110: same as 4100 but specific for the bird game\n",
    "\n",
    "**installation_id**: identifier of game installation in a device, ie: game installed in an iPad, this is it's id\n",
    "\n",
    "**event_count**: accumulative count of the number of events in an activity, ie: playing a title has the start of the game event (2000) plus all the events generated by the kid (moving pieces for example) plus an assement try.\n",
    "\n",
    "**event_code**: action code of the event in the observation, as exposed in event_data each code corresponds to a certain action\n",
    "\n",
    "**game_time**: overall time of the activity between events in miliseconds\n",
    "\n",
    "**title**: title of the game, it can be from a clip, activity, assessment or game\n",
    "\n",
    "**type**: Clip, Activity, Game or Assessment, the last one is the one we should be predicting the accuracy group for the test set\n",
    "\n",
    "**world**: worlds inside the game, \"NONE\" is the starting screen\n",
    "\n",
    "### Tasks:\n",
    "\n",
    "* Distributions, NAs, uniques\n",
    "* timestamp: when does the dataset starts, when does it ends, hits per unit (ie: day)\n",
    "* event_data: analyze codes, and the different key values contained depending on code\n",
    "* installation_id: mean game sessions, events, activities\n",
    "* game_time: average gametime between sessions, sum of time in a whole session\n",
    "* event_code: retrieve action per code\n"
   ]
  },
  {
   "cell_type": "markdown",
   "metadata": {},
   "source": [
    "## Analysis of event_id"
   ]
  },
  {
   "cell_type": "code",
   "execution_count": 6,
   "metadata": {},
   "outputs": [
    {
     "name": "stdout",
     "output_type": "stream",
     "text": [
      "Number of unique values in train 384\n",
      "Number of unique values in test 365\n"
     ]
    }
   ],
   "source": [
    "print(f'Number of unique values in train {train.event_id.nunique()}')\n",
    "print(f'Number of unique values in test {test.event_id.nunique()}')"
   ]
  },
  {
   "cell_type": "code",
   "execution_count": 10,
   "metadata": {},
   "outputs": [
    {
     "name": "stdout",
     "output_type": "stream",
     "text": [
      "['29a42aea', '119b5b02', '13f56524', '0ce40006', 'bfc77bd6', 'ecc6157f', '611485c5', 'a8cc6fec', '7fd1ac25', '17ca3959', '1b54d27f', 'ab4ec3a4', '2ec694de', '01ca3a3c', '4074bac2', '003cd2ee', '5dc079d8', 'dcb1663e', 'e4d32835']\n"
     ]
    }
   ],
   "source": [
    "disjoint_event_ids = list(set(train.event_id.drop_duplicates()).difference(set(test.event_id.drop_duplicates())))\n",
    "print(disjoint_event_ids)"
   ]
  },
  {
   "cell_type": "markdown",
   "metadata": {},
   "source": [
    "There seems to be some events_id that are train set but not in test set, lets check out one of them "
   ]
  },
  {
   "cell_type": "code",
   "execution_count": 17,
   "metadata": {},
   "outputs": [
    {
     "data": {
      "text/html": [
       "<div>\n",
       "<style scoped>\n",
       "    .dataframe tbody tr th:only-of-type {\n",
       "        vertical-align: middle;\n",
       "    }\n",
       "\n",
       "    .dataframe tbody tr th {\n",
       "        vertical-align: top;\n",
       "    }\n",
       "\n",
       "    .dataframe thead th {\n",
       "        text-align: right;\n",
       "    }\n",
       "</style>\n",
       "<table border=\"1\" class=\"dataframe\">\n",
       "  <thead>\n",
       "    <tr style=\"text-align: right;\">\n",
       "      <th></th>\n",
       "      <th>event_id</th>\n",
       "      <th>game_session</th>\n",
       "      <th>timestamp</th>\n",
       "      <th>event_data</th>\n",
       "      <th>installation_id</th>\n",
       "      <th>event_count</th>\n",
       "      <th>event_code</th>\n",
       "      <th>game_time</th>\n",
       "      <th>title</th>\n",
       "      <th>type</th>\n",
       "      <th>world</th>\n",
       "    </tr>\n",
       "  </thead>\n",
       "  <tbody>\n",
       "    <tr>\n",
       "      <th>314929</th>\n",
       "      <td>29a42aea</td>\n",
       "      <td>fc7d0ebdcec03dc6</td>\n",
       "      <td>2019-10-04T17:42:46.872Z</td>\n",
       "      <td>{\"dwell_time\":25220,\"object\":\"cabinet\",\"round\"...</td>\n",
       "      <td>063e3e02</td>\n",
       "      <td>254</td>\n",
       "      <td>4080</td>\n",
       "      <td>370859</td>\n",
       "      <td>Bubble Bath</td>\n",
       "      <td>Game</td>\n",
       "      <td>MAGMAPEAK</td>\n",
       "    </tr>\n",
       "    <tr>\n",
       "      <th>315050</th>\n",
       "      <td>29a42aea</td>\n",
       "      <td>4a26abfbf30186c2</td>\n",
       "      <td>2019-10-09T01:10:28.687Z</td>\n",
       "      <td>{\"dwell_time\":1882,\"object\":\"window\",\"round\":1...</td>\n",
       "      <td>063e3e02</td>\n",
       "      <td>76</td>\n",
       "      <td>4080</td>\n",
       "      <td>114842</td>\n",
       "      <td>Bubble Bath</td>\n",
       "      <td>Game</td>\n",
       "      <td>MAGMAPEAK</td>\n",
       "    </tr>\n",
       "    <tr>\n",
       "      <th>1810730</th>\n",
       "      <td>29a42aea</td>\n",
       "      <td>243781973cbcaa65</td>\n",
       "      <td>2019-07-30T01:16:37.242Z</td>\n",
       "      <td>{\"dwell_time\":2122,\"object\":\"cabinet\",\"round\":...</td>\n",
       "      <td>29d1aaee</td>\n",
       "      <td>83</td>\n",
       "      <td>4080</td>\n",
       "      <td>91707</td>\n",
       "      <td>Bubble Bath</td>\n",
       "      <td>Game</td>\n",
       "      <td>MAGMAPEAK</td>\n",
       "    </tr>\n",
       "    <tr>\n",
       "      <th>3036086</th>\n",
       "      <td>29a42aea</td>\n",
       "      <td>6de5e45bec988ffb</td>\n",
       "      <td>2019-08-23T16:30:25.717Z</td>\n",
       "      <td>{\"dwell_time\":2018,\"object\":\"cabinet\",\"round\":...</td>\n",
       "      <td>433726dc</td>\n",
       "      <td>347</td>\n",
       "      <td>4080</td>\n",
       "      <td>232471</td>\n",
       "      <td>Bubble Bath</td>\n",
       "      <td>Game</td>\n",
       "      <td>MAGMAPEAK</td>\n",
       "    </tr>\n",
       "    <tr>\n",
       "      <th>5195281</th>\n",
       "      <td>29a42aea</td>\n",
       "      <td>6cb9f3e623223309</td>\n",
       "      <td>2019-09-19T12:29:46.604Z</td>\n",
       "      <td>{\"dwell_time\":13460,\"object\":\"cabinet\",\"round\"...</td>\n",
       "      <td>73a5310e</td>\n",
       "      <td>53</td>\n",
       "      <td>4080</td>\n",
       "      <td>86070</td>\n",
       "      <td>Bubble Bath</td>\n",
       "      <td>Game</td>\n",
       "      <td>MAGMAPEAK</td>\n",
       "    </tr>\n",
       "    <tr>\n",
       "      <th>6093455</th>\n",
       "      <td>29a42aea</td>\n",
       "      <td>2166d754fdcc9b37</td>\n",
       "      <td>2019-08-20T20:03:25.901Z</td>\n",
       "      <td>{\"dwell_time\":2148,\"object\":\"window\",\"round\":1...</td>\n",
       "      <td>86c58053</td>\n",
       "      <td>38</td>\n",
       "      <td>4080</td>\n",
       "      <td>89954</td>\n",
       "      <td>Bubble Bath</td>\n",
       "      <td>Game</td>\n",
       "      <td>MAGMAPEAK</td>\n",
       "    </tr>\n",
       "    <tr>\n",
       "      <th>6294665</th>\n",
       "      <td>29a42aea</td>\n",
       "      <td>6e929a0c84029dcc</td>\n",
       "      <td>2019-09-13T13:02:14.173Z</td>\n",
       "      <td>{\"dwell_time\":3351,\"object\":\"cabinet\",\"round\":...</td>\n",
       "      <td>8b420df0</td>\n",
       "      <td>113</td>\n",
       "      <td>4080</td>\n",
       "      <td>197482</td>\n",
       "      <td>Bubble Bath</td>\n",
       "      <td>Game</td>\n",
       "      <td>MAGMAPEAK</td>\n",
       "    </tr>\n",
       "    <tr>\n",
       "      <th>6911299</th>\n",
       "      <td>29a42aea</td>\n",
       "      <td>2c62388b8f094da6</td>\n",
       "      <td>2019-09-07T22:36:00.471Z</td>\n",
       "      <td>{\"dwell_time\":1398,\"object\":\"towel\",\"round\":3,...</td>\n",
       "      <td>9a6ffb62</td>\n",
       "      <td>157</td>\n",
       "      <td>4080</td>\n",
       "      <td>204596</td>\n",
       "      <td>Bubble Bath</td>\n",
       "      <td>Game</td>\n",
       "      <td>MAGMAPEAK</td>\n",
       "    </tr>\n",
       "    <tr>\n",
       "      <th>6911301</th>\n",
       "      <td>29a42aea</td>\n",
       "      <td>2c62388b8f094da6</td>\n",
       "      <td>2019-09-07T22:36:01.559Z</td>\n",
       "      <td>{\"dwell_time\":1090,\"object\":\"cabinet\",\"round\":...</td>\n",
       "      <td>9a6ffb62</td>\n",
       "      <td>159</td>\n",
       "      <td>4080</td>\n",
       "      <td>205686</td>\n",
       "      <td>Bubble Bath</td>\n",
       "      <td>Game</td>\n",
       "      <td>MAGMAPEAK</td>\n",
       "    </tr>\n",
       "    <tr>\n",
       "      <th>7827546</th>\n",
       "      <td>29a42aea</td>\n",
       "      <td>2adcc8a38feb4b62</td>\n",
       "      <td>2019-07-26T15:47:16.032Z</td>\n",
       "      <td>{\"dwell_time\":11126,\"object\":\"ship\",\"round\":3,...</td>\n",
       "      <td>af6786f7</td>\n",
       "      <td>313</td>\n",
       "      <td>4080</td>\n",
       "      <td>344758</td>\n",
       "      <td>Bubble Bath</td>\n",
       "      <td>Game</td>\n",
       "      <td>MAGMAPEAK</td>\n",
       "    </tr>\n",
       "    <tr>\n",
       "      <th>8059225</th>\n",
       "      <td>29a42aea</td>\n",
       "      <td>c07dcfc49ab95b17</td>\n",
       "      <td>2019-10-07T17:38:47.950Z</td>\n",
       "      <td>{\"dwell_time\":4970790,\"object\":\"cabinet\",\"roun...</td>\n",
       "      <td>b4bea4fa</td>\n",
       "      <td>216</td>\n",
       "      <td>4080</td>\n",
       "      <td>5119230</td>\n",
       "      <td>Bubble Bath</td>\n",
       "      <td>Game</td>\n",
       "      <td>MAGMAPEAK</td>\n",
       "    </tr>\n",
       "    <tr>\n",
       "      <th>8068874</th>\n",
       "      <td>29a42aea</td>\n",
       "      <td>f0e35644164100ed</td>\n",
       "      <td>2019-09-01T13:43:38.397Z</td>\n",
       "      <td>{\"dwell_time\":4057,\"object\":\"duck\",\"round\":10,...</td>\n",
       "      <td>b4ffc90a</td>\n",
       "      <td>772</td>\n",
       "      <td>4080</td>\n",
       "      <td>845827</td>\n",
       "      <td>Bubble Bath</td>\n",
       "      <td>Game</td>\n",
       "      <td>MAGMAPEAK</td>\n",
       "    </tr>\n",
       "    <tr>\n",
       "      <th>10004398</th>\n",
       "      <td>29a42aea</td>\n",
       "      <td>6f1dc715ead9a9be</td>\n",
       "      <td>2019-08-31T06:49:20.177Z</td>\n",
       "      <td>{\"dwell_time\":1280,\"object\":\"cabinet\",\"round\":...</td>\n",
       "      <td>e0bc76ac</td>\n",
       "      <td>967</td>\n",
       "      <td>4080</td>\n",
       "      <td>845981</td>\n",
       "      <td>Bubble Bath</td>\n",
       "      <td>Game</td>\n",
       "      <td>MAGMAPEAK</td>\n",
       "    </tr>\n",
       "    <tr>\n",
       "      <th>10247657</th>\n",
       "      <td>29a42aea</td>\n",
       "      <td>e7047c501af6d67d</td>\n",
       "      <td>2019-08-04T17:51:16.520Z</td>\n",
       "      <td>{\"dwell_time\":2623,\"object\":\"cabinet\",\"round\":...</td>\n",
       "      <td>e7835bb3</td>\n",
       "      <td>117</td>\n",
       "      <td>4080</td>\n",
       "      <td>113040</td>\n",
       "      <td>Bubble Bath</td>\n",
       "      <td>Game</td>\n",
       "      <td>MAGMAPEAK</td>\n",
       "    </tr>\n",
       "  </tbody>\n",
       "</table>\n",
       "</div>"
      ],
      "text/plain": [
       "          event_id      game_session                 timestamp  \\\n",
       "314929    29a42aea  fc7d0ebdcec03dc6  2019-10-04T17:42:46.872Z   \n",
       "315050    29a42aea  4a26abfbf30186c2  2019-10-09T01:10:28.687Z   \n",
       "1810730   29a42aea  243781973cbcaa65  2019-07-30T01:16:37.242Z   \n",
       "3036086   29a42aea  6de5e45bec988ffb  2019-08-23T16:30:25.717Z   \n",
       "5195281   29a42aea  6cb9f3e623223309  2019-09-19T12:29:46.604Z   \n",
       "6093455   29a42aea  2166d754fdcc9b37  2019-08-20T20:03:25.901Z   \n",
       "6294665   29a42aea  6e929a0c84029dcc  2019-09-13T13:02:14.173Z   \n",
       "6911299   29a42aea  2c62388b8f094da6  2019-09-07T22:36:00.471Z   \n",
       "6911301   29a42aea  2c62388b8f094da6  2019-09-07T22:36:01.559Z   \n",
       "7827546   29a42aea  2adcc8a38feb4b62  2019-07-26T15:47:16.032Z   \n",
       "8059225   29a42aea  c07dcfc49ab95b17  2019-10-07T17:38:47.950Z   \n",
       "8068874   29a42aea  f0e35644164100ed  2019-09-01T13:43:38.397Z   \n",
       "10004398  29a42aea  6f1dc715ead9a9be  2019-08-31T06:49:20.177Z   \n",
       "10247657  29a42aea  e7047c501af6d67d  2019-08-04T17:51:16.520Z   \n",
       "\n",
       "                                                 event_data installation_id  \\\n",
       "314929    {\"dwell_time\":25220,\"object\":\"cabinet\",\"round\"...        063e3e02   \n",
       "315050    {\"dwell_time\":1882,\"object\":\"window\",\"round\":1...        063e3e02   \n",
       "1810730   {\"dwell_time\":2122,\"object\":\"cabinet\",\"round\":...        29d1aaee   \n",
       "3036086   {\"dwell_time\":2018,\"object\":\"cabinet\",\"round\":...        433726dc   \n",
       "5195281   {\"dwell_time\":13460,\"object\":\"cabinet\",\"round\"...        73a5310e   \n",
       "6093455   {\"dwell_time\":2148,\"object\":\"window\",\"round\":1...        86c58053   \n",
       "6294665   {\"dwell_time\":3351,\"object\":\"cabinet\",\"round\":...        8b420df0   \n",
       "6911299   {\"dwell_time\":1398,\"object\":\"towel\",\"round\":3,...        9a6ffb62   \n",
       "6911301   {\"dwell_time\":1090,\"object\":\"cabinet\",\"round\":...        9a6ffb62   \n",
       "7827546   {\"dwell_time\":11126,\"object\":\"ship\",\"round\":3,...        af6786f7   \n",
       "8059225   {\"dwell_time\":4970790,\"object\":\"cabinet\",\"roun...        b4bea4fa   \n",
       "8068874   {\"dwell_time\":4057,\"object\":\"duck\",\"round\":10,...        b4ffc90a   \n",
       "10004398  {\"dwell_time\":1280,\"object\":\"cabinet\",\"round\":...        e0bc76ac   \n",
       "10247657  {\"dwell_time\":2623,\"object\":\"cabinet\",\"round\":...        e7835bb3   \n",
       "\n",
       "          event_count  event_code  game_time        title  type      world  \n",
       "314929            254        4080     370859  Bubble Bath  Game  MAGMAPEAK  \n",
       "315050             76        4080     114842  Bubble Bath  Game  MAGMAPEAK  \n",
       "1810730            83        4080      91707  Bubble Bath  Game  MAGMAPEAK  \n",
       "3036086           347        4080     232471  Bubble Bath  Game  MAGMAPEAK  \n",
       "5195281            53        4080      86070  Bubble Bath  Game  MAGMAPEAK  \n",
       "6093455            38        4080      89954  Bubble Bath  Game  MAGMAPEAK  \n",
       "6294665           113        4080     197482  Bubble Bath  Game  MAGMAPEAK  \n",
       "6911299           157        4080     204596  Bubble Bath  Game  MAGMAPEAK  \n",
       "6911301           159        4080     205686  Bubble Bath  Game  MAGMAPEAK  \n",
       "7827546           313        4080     344758  Bubble Bath  Game  MAGMAPEAK  \n",
       "8059225           216        4080    5119230  Bubble Bath  Game  MAGMAPEAK  \n",
       "8068874           772        4080     845827  Bubble Bath  Game  MAGMAPEAK  \n",
       "10004398          967        4080     845981  Bubble Bath  Game  MAGMAPEAK  \n",
       "10247657          117        4080     113040  Bubble Bath  Game  MAGMAPEAK  "
      ]
     },
     "execution_count": 17,
     "metadata": {},
     "output_type": "execute_result"
    }
   ],
   "source": [
    "train[train.event_id == '29a42aea']"
   ]
  },
  {
   "cell_type": "markdown",
   "metadata": {},
   "source": [
    "This event_id seems to be related to the 4080 code (236 out of 241) and 2010, but there are observations with different event id but same code, lets checkout the different titles and games for those event_code's"
   ]
  },
  {
   "cell_type": "code",
   "execution_count": 44,
   "metadata": {},
   "outputs": [
    {
     "data": {
      "text/plain": [
       "4080    236\n",
       "2010      5\n",
       "Name: event_code, dtype: int64"
      ]
     },
     "execution_count": 44,
     "metadata": {},
     "output_type": "execute_result"
    }
   ],
   "source": [
    "train[train.event_id.isin(disjoint_event_ids)].event_code.value_counts()"
   ]
  },
  {
   "cell_type": "code",
   "execution_count": 58,
   "metadata": {},
   "outputs": [
    {
     "name": "stdout",
     "output_type": "stream",
     "text": [
      "Length of titles in disjoint event_id's: 18\n",
      "Length of titles off disjoint event_id's: 11\n",
      "['Fireworks (Activity)', 'Happy Camel', 'Egg Dropper (Activity)', 'Air Show', 'Bug Measurer (Activity)', 'Dino Drink', 'Crystals Rule', 'Leaf Leader', 'Dino Dive', 'Scrub-A-Dub', 'Pan Balance', 'Bubble Bath', 'Watering Hole (Activity)']\n",
      "Length of titles off disjoint event_id's: 11\n",
      "['Cart Balancer (Assessment)', 'Mushroom Sorter (Assessment)', 'Cauldron Filler (Assessment)', 'Bird Measurer (Assessment)', 'Chest Sorter (Assessment)', 'Chow Time', 'Bottle Filler (Activity)', 'Chicken Balancer (Activity)', 'All Star Sorting', 'Sandcastle Builder (Activity)', 'Flower Waterer (Activity)']\n",
      "Common titles in train and test: []\n"
     ]
    }
   ],
   "source": [
    "# Check the different titles with thath event id and without\n",
    "titles_in_disjoint = train[train.event_id.isin(disjoint_event_ids)].title.value_counts().index\n",
    "print(f'Length of titles in disjoint event_id\\'s: {len(titles_in_disjoint)}')\n",
    "titles_off_disjoint = train[((train.event_code == 4080) | (train.event_code == 2010)) & (~train.event_id.isin(disjoint_event_ids))].title.value_counts().index\n",
    "print(f'Length of titles off disjoint event_id\\'s: {len(titles_off_disjoint)}')\n",
    "diff_in_titles = list(set(titles_in_disjoint).difference(set(titles_off_disjoint)))\n",
    "print(diff_in_titles)\n",
    "\n",
    "# Check the titles in the test set with 4080 and 2010 codes\n",
    "titles_off_disjoint_test = train[((train.event_code == 4080) | (train.event_code == 2010)) & (~train.event_id.isin(disjoint_event_ids))].title.value_counts().index\n",
    "print(f'Length of titles off disjoint event_id\\'s: {len(titles_off_disjoint)}')\n",
    "\n",
    "print(list(titles_off_disjoint_test))\n",
    "\n",
    "print(f'Common titles in train and test: {list(set(diff_in_titles).intersection(set(titles_off_disjoint_test)))}')"
   ]
  },
  {
   "cell_type": "markdown",
   "metadata": {},
   "source": [
    "It seems that some titles that are have an event_id that is not in the test set might come from different games, once qe start with the modeling, **getting rid of the observation with those events** can be a test of FE.  "
   ]
  },
  {
   "cell_type": "markdown",
   "metadata": {},
   "source": [
    "## Analysis of game_session"
   ]
  },
  {
   "cell_type": "code",
   "execution_count": 63,
   "metadata": {},
   "outputs": [
    {
     "name": "stdout",
     "output_type": "stream",
     "text": [
      "Sum of unique values for game_session: 303319\n",
      "Average hits for game_session: 37.389817321038244\n"
     ]
    }
   ],
   "source": [
    "print(f'Sum of unique values for game_session: {train.game_session.nunique()}')\n",
    "print(f'Average hits for game_session: {train.game_session.value_counts().values.mean()}')"
   ]
  },
  {
   "cell_type": "markdown",
   "metadata": {},
   "source": [
    "Let's see the distribution of hits for both train and test"
   ]
  },
  {
   "cell_type": "code",
   "execution_count": 74,
   "metadata": {},
   "outputs": [
    {
     "name": "stderr",
     "output_type": "stream",
     "text": [
      "/home/gnm/anaconda3/lib/python3.6/site-packages/scipy/stats/stats.py:1633: FutureWarning: Using a non-tuple sequence for multidimensional indexing is deprecated; use `arr[tuple(seq)]` instead of `arr[seq]`. In the future this will be interpreted as an array index, `arr[np.array(seq)]`, which will result either in an error or a different result.\n",
      "  return np.add.reduce(sorted[indexer] * weights, axis=axis) / sumval\n"
     ]
    },
    {
     "data": {
      "text/plain": [
       "<matplotlib.axes._subplots.AxesSubplot at 0x7fc9fbb9e358>"
      ]
     },
     "execution_count": 74,
     "metadata": {},
     "output_type": "execute_result"
    },
    {
     "data": {
      "image/png": "[encoded data removed]",
      "text/plain": [
       "<matplotlib.figure.Figure at 0x7fc91d08f518>"
      ]
     },
     "metadata": {},
     "output_type": "display_data"
    }
   ],
   "source": [
    "fig, ax = plt.subplots(1, 2, figsize=(10, 5))\n",
    "\n",
    "ax[0].set_title('Distribution for train set')\n",
    "ax[1].set_title('Distribution for test set')\n",
    "\n",
    "sns.distplot(train.game_session.value_counts().values, ax=ax[0],)\n",
    "sns.distplot(test.game_session.value_counts().values, ax=ax[1])"
   ]
  },
  {
   "cell_type": "markdown",
   "metadata": {},
   "source": [
    "Seems like most kids do not engage in long game sessions and the distribution matches train and test.\n",
    "\n",
    "Lets check out the average game time of all the sessions"
   ]
  },
  {
   "cell_type": "code",
   "execution_count": 103,
   "metadata": {
    "collapsed": true
   },
   "outputs": [],
   "source": [
    "sessions_total_time = np.zeros(train.game_session.nunique())\n",
    "for i, sess in enumerate(train[['game_session', 'game_time']].groupby('game_session', sort=False)):\n",
    "    sessions_total_time[i] = sess[1].iloc[-1, -1]\n",
    "sess_time = pd.DataFrame(sessions_total_time, columns='duration')"
   ]
  },
  {
   "cell_type": "code",
   "execution_count": 104,
   "metadata": {
    "scrolled": false
   },
   "outputs": [
    {
     "name": "stderr",
     "output_type": "stream",
     "text": [
      "/home/gnm/anaconda3/lib/python3.6/site-packages/scipy/stats/stats.py:1633: FutureWarning: Using a non-tuple sequence for multidimensional indexing is deprecated; use `arr[tuple(seq)]` instead of `arr[seq]`. In the future this will be interpreted as an array index, `arr[np.array(seq)]`, which will result either in an error or a different result.\n",
      "  return np.add.reduce(sorted[indexer] * weights, axis=axis) / sumval\n"
     ]
    },
    {
     "data": {
      "text/plain": [
       "<matplotlib.axes._subplots.AxesSubplot at 0x7fc8fe6c9fd0>"
      ]
     },
     "execution_count": 104,
     "metadata": {},
     "output_type": "execute_result"
    },
    {
     "data": {
      "image/png": "[encoded data removed]",
      "text/plain": [
       "<matplotlib.figure.Figure at 0x7fc85e8c5860>"
      ]
     },
     "metadata": {},
     "output_type": "display_data"
    }
   ],
   "source": [
    "sns.distplot(sess_time)"
   ]
  },
  {
   "cell_type": "markdown",
   "metadata": {},
   "source": [
    "Seems thath most game sessions durations is about zero, lets see hoy many of them are zero and the average game duration\n"
   ]
  },
  {
   "cell_type": "code",
   "execution_count": 119,
   "metadata": {
    "scrolled": true
   },
   "outputs": [
    {
     "data": {
      "text/plain": [
       "0.0      186361\n",
       "390.0        22\n",
       "391.0        18\n",
       "395.0        18\n",
       "392.0        18\n",
       "394.0        17\n",
       "387.0        16\n",
       "396.0        15\n",
       "399.0        15\n",
       "66.0         14\n",
       "Name: duration, dtype: int64"
      ]
     },
     "execution_count": 119,
     "metadata": {},
     "output_type": "execute_result"
    }
   ],
   "source": [
    "sess_time.duration.value_counts().iloc[:10]"
   ]
  },
  {
   "cell_type": "code",
   "execution_count": 124,
   "metadata": {},
   "outputs": [
    {
     "name": "stdout",
     "output_type": "stream",
     "text": [
      "Average seconds for each game_session 83.45795093614313\n"
     ]
    }
   ],
   "source": [
    "print(f'Average seconds for each game_session {float(sess_time.mean()/1000)}')"
   ]
  },
  {
   "cell_type": "markdown",
   "metadata": {},
   "source": [
    "Zero durations makes for more than a half of the game sessions, maybe when the game starts it generates onse gaming session and after a world is selected another one starts, alo its seems that can depend on the title that is actually playing, so a game session might be de duration of a specific activity\n",
    "\n",
    "*FE*: identify the sessions and unify them in one"
   ]
  },
  {
   "cell_type": "markdown",
   "metadata": {},
   "source": [
    "## Analysis of timestamp"
   ]
  },
  {
   "cell_type": "code",
   "execution_count": 128,
   "metadata": {
    "collapsed": true
   },
   "outputs": [],
   "source": [
    "train['timestamp'] = train.timestamp.apply(lambda x: pd.Timestamp(x))"
   ]
  },
  {
   "cell_type": "code",
   "execution_count": null,
   "metadata": {},
   "outputs": [],
   "source": [
    "train['hour'] = train.timestamp.apply(lambda x: x.hour)\n",
    "train['date'] = train.timestamp.apply(lambda x: x.date)\n",
    "train.head()"
   ]
  },
  {
   "cell_type": "code",
   "execution_count": null,
   "metadata": {
    "collapsed": true
   },
   "outputs": [],
   "source": []
  },
  {
   "cell_type": "code",
   "execution_count": 59,
   "metadata": {},
   "outputs": [
    {
     "data": {
      "text/html": [
       "<div>\n",
       "<style scoped>\n",
       "    .dataframe tbody tr th:only-of-type {\n",
       "        vertical-align: middle;\n",
       "    }\n",
       "\n",
       "    .dataframe tbody tr th {\n",
       "        vertical-align: top;\n",
       "    }\n",
       "\n",
       "    .dataframe thead th {\n",
       "        text-align: right;\n",
       "    }\n",
       "</style>\n",
       "<table border=\"1\" class=\"dataframe\">\n",
       "  <thead>\n",
       "    <tr style=\"text-align: right;\">\n",
       "      <th></th>\n",
       "      <th>event_id</th>\n",
       "      <th>game_session</th>\n",
       "      <th>timestamp</th>\n",
       "      <th>event_data</th>\n",
       "      <th>installation_id</th>\n",
       "      <th>event_count</th>\n",
       "      <th>event_code</th>\n",
       "      <th>game_time</th>\n",
       "      <th>title</th>\n",
       "      <th>type</th>\n",
       "      <th>world</th>\n",
       "    </tr>\n",
       "  </thead>\n",
       "  <tbody>\n",
       "    <tr>\n",
       "      <th>0</th>\n",
       "      <td>27253bdc</td>\n",
       "      <td>45bb1e1b6b50c07b</td>\n",
       "      <td>2019-09-06T17:53:46.937Z</td>\n",
       "      <td>{\"event_code\": 2000, \"event_count\": 1}</td>\n",
       "      <td>0001e90f</td>\n",
       "      <td>1</td>\n",
       "      <td>2000</td>\n",
       "      <td>0</td>\n",
       "      <td>Welcome to Lost Lagoon!</td>\n",
       "      <td>Clip</td>\n",
       "      <td>NONE</td>\n",
       "    </tr>\n",
       "    <tr>\n",
       "      <th>1</th>\n",
       "      <td>27253bdc</td>\n",
       "      <td>17eeb7f223665f53</td>\n",
       "      <td>2019-09-06T17:54:17.519Z</td>\n",
       "      <td>{\"event_code\": 2000, \"event_count\": 1}</td>\n",
       "      <td>0001e90f</td>\n",
       "      <td>1</td>\n",
       "      <td>2000</td>\n",
       "      <td>0</td>\n",
       "      <td>Magma Peak - Level 1</td>\n",
       "      <td>Clip</td>\n",
       "      <td>MAGMAPEAK</td>\n",
       "    </tr>\n",
       "    <tr>\n",
       "      <th>2</th>\n",
       "      <td>77261ab5</td>\n",
       "      <td>0848ef14a8dc6892</td>\n",
       "      <td>2019-09-06T17:54:56.302Z</td>\n",
       "      <td>{\"version\":\"1.0\",\"event_count\":1,\"game_time\":0...</td>\n",
       "      <td>0001e90f</td>\n",
       "      <td>1</td>\n",
       "      <td>2000</td>\n",
       "      <td>0</td>\n",
       "      <td>Sandcastle Builder (Activity)</td>\n",
       "      <td>Activity</td>\n",
       "      <td>MAGMAPEAK</td>\n",
       "    </tr>\n",
       "    <tr>\n",
       "      <th>3</th>\n",
       "      <td>b2dba42b</td>\n",
       "      <td>0848ef14a8dc6892</td>\n",
       "      <td>2019-09-06T17:54:56.387Z</td>\n",
       "      <td>{\"description\":\"Let's build a sandcastle! Firs...</td>\n",
       "      <td>0001e90f</td>\n",
       "      <td>2</td>\n",
       "      <td>3010</td>\n",
       "      <td>53</td>\n",
       "      <td>Sandcastle Builder (Activity)</td>\n",
       "      <td>Activity</td>\n",
       "      <td>MAGMAPEAK</td>\n",
       "    </tr>\n",
       "    <tr>\n",
       "      <th>4</th>\n",
       "      <td>1bb5fbdb</td>\n",
       "      <td>0848ef14a8dc6892</td>\n",
       "      <td>2019-09-06T17:55:03.253Z</td>\n",
       "      <td>{\"description\":\"Let's build a sandcastle! Firs...</td>\n",
       "      <td>0001e90f</td>\n",
       "      <td>3</td>\n",
       "      <td>3110</td>\n",
       "      <td>6972</td>\n",
       "      <td>Sandcastle Builder (Activity)</td>\n",
       "      <td>Activity</td>\n",
       "      <td>MAGMAPEAK</td>\n",
       "    </tr>\n",
       "  </tbody>\n",
       "</table>\n",
       "</div>"
      ],
      "text/plain": [
       "   event_id      game_session                 timestamp  \\\n",
       "0  27253bdc  45bb1e1b6b50c07b  2019-09-06T17:53:46.937Z   \n",
       "1  27253bdc  17eeb7f223665f53  2019-09-06T17:54:17.519Z   \n",
       "2  77261ab5  0848ef14a8dc6892  2019-09-06T17:54:56.302Z   \n",
       "3  b2dba42b  0848ef14a8dc6892  2019-09-06T17:54:56.387Z   \n",
       "4  1bb5fbdb  0848ef14a8dc6892  2019-09-06T17:55:03.253Z   \n",
       "\n",
       "                                          event_data installation_id  \\\n",
       "0             {\"event_code\": 2000, \"event_count\": 1}        0001e90f   \n",
       "1             {\"event_code\": 2000, \"event_count\": 1}        0001e90f   \n",
       "2  {\"version\":\"1.0\",\"event_count\":1,\"game_time\":0...        0001e90f   \n",
       "3  {\"description\":\"Let's build a sandcastle! Firs...        0001e90f   \n",
       "4  {\"description\":\"Let's build a sandcastle! Firs...        0001e90f   \n",
       "\n",
       "   event_count  event_code  game_time                          title  \\\n",
       "0            1        2000          0        Welcome to Lost Lagoon!   \n",
       "1            1        2000          0           Magma Peak - Level 1   \n",
       "2            1        2000          0  Sandcastle Builder (Activity)   \n",
       "3            2        3010         53  Sandcastle Builder (Activity)   \n",
       "4            3        3110       6972  Sandcastle Builder (Activity)   \n",
       "\n",
       "       type      world  \n",
       "0      Clip       NONE  \n",
       "1      Clip  MAGMAPEAK  \n",
       "2  Activity  MAGMAPEAK  \n",
       "3  Activity  MAGMAPEAK  \n",
       "4  Activity  MAGMAPEAK  "
      ]
     },
     "execution_count": 59,
     "metadata": {},
     "output_type": "execute_result"
    }
   ],
   "source": [
    "train.head()"
   ]
  },
  {
   "cell_type": "code",
   "execution_count": null,
   "metadata": {
    "collapsed": true
   },
   "outputs": [],
   "source": []
  }
 ],
 "metadata": {
  "kernelspec": {
   "display_name": "Python 3",
   "language": "python",
   "name": "python3"
  },
  "language_info": {
   "codemirror_mode": {
    "name": "ipython",
    "version": 3
   },
   "file_extension": ".py",
   "mimetype": "text/x-python",
   "name": "python",
   "nbconvert_exporter": "python",
   "pygments_lexer": "ipython3",
   "version": "3.6.2"
  }
 },
 "nbformat": 4,
 "nbformat_minor": 2
}
